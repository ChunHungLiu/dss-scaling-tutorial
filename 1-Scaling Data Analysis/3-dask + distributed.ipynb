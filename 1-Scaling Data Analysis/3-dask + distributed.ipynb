{
 "cells": [
  {
   "cell_type": "markdown",
   "metadata": {},
   "source": [
    "<img src=\"http://dask.readthedocs.io/en/latest/_images/dask_horizontal.svg\"\n",
    "     width=\"30%\" \n",
    "     align=right\n",
    "     alt=\"Dask logo\">\n",
    "\n",
    "Distributed DataFrames with Dask\n",
    "--------------------------------"
   ]
  },
  {
   "cell_type": "code",
   "execution_count": 11,
   "metadata": {
    "collapsed": false
   },
   "outputs": [
    {
     "data": {
      "text/plain": [
       "<Executor: scheduler=cluster.demo.continuum.io:8786 processes=24 cores=24>"
      ]
     },
     "execution_count": 11,
     "metadata": {},
     "output_type": "execute_result"
    }
   ],
   "source": [
    "from dask.distributed import Executor, progress\n",
    "e = Executor('cluster.demo.continuum.io:8786')\n",
    "e"
   ]
  },
  {
   "cell_type": "code",
   "execution_count": 9,
   "metadata": {
    "collapsed": false
   },
   "outputs": [
    {
     "data": {
      "text/plain": [
       "<Executor: scheduler=cluster.demo.continuum.io:8786 processes=24 cores=24>"
      ]
     },
     "execution_count": 9,
     "metadata": {},
     "output_type": "execute_result"
    }
   ],
   "source": [
    "e.restart()"
   ]
  },
  {
   "cell_type": "code",
   "execution_count": 12,
   "metadata": {
    "collapsed": false
   },
   "outputs": [
    {
     "data": {
      "text/plain": [
       "<dask.context.set_options at 0x7f31e4611b50>"
      ]
     },
     "execution_count": 12,
     "metadata": {},
     "output_type": "execute_result"
    }
   ],
   "source": [
    "import dask\n",
    "dask.set_options(get=e.get)"
   ]
  },
  {
   "cell_type": "code",
   "execution_count": 13,
   "metadata": {
    "collapsed": false
   },
   "outputs": [],
   "source": [
    "import dask.dataframe as dd\n",
    "\n",
    "df = dd.read_csv('hdfs:///user/ubuntu/nyc-taxi/yellow_tripdata_2015-*.csv', \n",
    "                  parse_dates=['tpep_pickup_datetime', 'tpep_dropoff_datetime'],\n",
    "                  header='infer')\n",
    "df = e.persist(df)"
   ]
  },
  {
   "cell_type": "code",
   "execution_count": 14,
   "metadata": {
    "collapsed": false
   },
   "outputs": [],
   "source": [
    "progress(df)"
   ]
  },
  {
   "cell_type": "code",
   "execution_count": 17,
   "metadata": {
    "collapsed": false
   },
   "outputs": [
    {
     "data": {
      "text/plain": [
       "dd.DataFrame<from-de..., npartitions=91>"
      ]
     },
     "execution_count": 17,
     "metadata": {},
     "output_type": "execute_result"
    }
   ],
   "source": [
    "df"
   ]
  },
  {
   "cell_type": "code",
   "execution_count": 18,
   "metadata": {
    "collapsed": false
   },
   "outputs": [
    {
     "data": {
      "text/plain": [
       "VendorID                          int64\n",
       "tpep_pickup_datetime     datetime64[ns]\n",
       "tpep_dropoff_datetime    datetime64[ns]\n",
       "passenger_count                   int64\n",
       "trip_distance                   float64\n",
       "pickup_longitude                float64\n",
       "pickup_latitude                 float64\n",
       "RateCodeID                      float64\n",
       "store_and_fwd_flag               object\n",
       "dropoff_longitude               float64\n",
       "dropoff_latitude                float64\n",
       "payment_type                    float64\n",
       "fare_amount                     float64\n",
       "extra                           float64\n",
       "mta_tax                         float64\n",
       "tip_amount                      float64\n",
       "tolls_amount                    float64\n",
       "total_amount\\r                  float64\n",
       "dtype: object"
      ]
     },
     "execution_count": 18,
     "metadata": {},
     "output_type": "execute_result"
    }
   ],
   "source": [
    "df.dtypes"
   ]
  },
  {
   "cell_type": "code",
   "execution_count": 19,
   "metadata": {
    "collapsed": false
   },
   "outputs": [
    {
     "data": {
      "text/html": [
       "<div>\n",
       "<table border=\"1\" class=\"dataframe\">\n",
       "  <thead>\n",
       "    <tr style=\"text-align: right;\">\n",
       "      <th></th>\n",
       "      <th>VendorID</th>\n",
       "      <th>tpep_pickup_datetime</th>\n",
       "      <th>tpep_dropoff_datetime</th>\n",
       "      <th>passenger_count</th>\n",
       "      <th>trip_distance</th>\n",
       "      <th>pickup_longitude</th>\n",
       "      <th>pickup_latitude</th>\n",
       "      <th>RateCodeID</th>\n",
       "      <th>store_and_fwd_flag</th>\n",
       "      <th>dropoff_longitude</th>\n",
       "      <th>dropoff_latitude</th>\n",
       "      <th>payment_type</th>\n",
       "      <th>fare_amount</th>\n",
       "      <th>extra</th>\n",
       "      <th>mta_tax</th>\n",
       "      <th>tip_amount</th>\n",
       "      <th>tolls_amount</th>\n",
       "      <th>total_amount</th>\n",
       "    </tr>\n",
       "  </thead>\n",
       "  <tbody>\n",
       "    <tr>\n",
       "      <th>0</th>\n",
       "      <td>2</td>\n",
       "      <td>2015-01-08 22:44:09</td>\n",
       "      <td>2015-01-08 22:50:56</td>\n",
       "      <td>1</td>\n",
       "      <td>1.55</td>\n",
       "      <td>-73.987686</td>\n",
       "      <td>40.724251</td>\n",
       "      <td>1.0</td>\n",
       "      <td>N</td>\n",
       "      <td>-73.973763</td>\n",
       "      <td>40.743378</td>\n",
       "      <td>2.0</td>\n",
       "      <td>7.5</td>\n",
       "      <td>0.5</td>\n",
       "      <td>0.5</td>\n",
       "      <td>0.0</td>\n",
       "      <td>0.0</td>\n",
       "      <td>8.8</td>\n",
       "    </tr>\n",
       "    <tr>\n",
       "      <th>1</th>\n",
       "      <td>1</td>\n",
       "      <td>2015-01-08 22:44:09</td>\n",
       "      <td>2015-01-08 22:51:17</td>\n",
       "      <td>3</td>\n",
       "      <td>1.20</td>\n",
       "      <td>-73.991570</td>\n",
       "      <td>40.726933</td>\n",
       "      <td>1.0</td>\n",
       "      <td>N</td>\n",
       "      <td>-74.004105</td>\n",
       "      <td>40.721081</td>\n",
       "      <td>2.0</td>\n",
       "      <td>7.0</td>\n",
       "      <td>0.5</td>\n",
       "      <td>0.5</td>\n",
       "      <td>0.0</td>\n",
       "      <td>0.0</td>\n",
       "      <td>8.3</td>\n",
       "    </tr>\n",
       "    <tr>\n",
       "      <th>2</th>\n",
       "      <td>1</td>\n",
       "      <td>2015-01-08 22:44:10</td>\n",
       "      <td>2015-01-08 22:55:27</td>\n",
       "      <td>1</td>\n",
       "      <td>2.40</td>\n",
       "      <td>-73.981918</td>\n",
       "      <td>40.783443</td>\n",
       "      <td>1.0</td>\n",
       "      <td>N</td>\n",
       "      <td>-73.952354</td>\n",
       "      <td>40.798199</td>\n",
       "      <td>2.0</td>\n",
       "      <td>10.5</td>\n",
       "      <td>0.5</td>\n",
       "      <td>0.5</td>\n",
       "      <td>0.0</td>\n",
       "      <td>0.0</td>\n",
       "      <td>11.8</td>\n",
       "    </tr>\n",
       "    <tr>\n",
       "      <th>3</th>\n",
       "      <td>1</td>\n",
       "      <td>2015-01-08 22:44:10</td>\n",
       "      <td>2015-01-08 22:58:09</td>\n",
       "      <td>1</td>\n",
       "      <td>7.30</td>\n",
       "      <td>-73.973122</td>\n",
       "      <td>40.743553</td>\n",
       "      <td>1.0</td>\n",
       "      <td>N</td>\n",
       "      <td>-73.919571</td>\n",
       "      <td>40.832001</td>\n",
       "      <td>2.0</td>\n",
       "      <td>21.5</td>\n",
       "      <td>0.5</td>\n",
       "      <td>0.5</td>\n",
       "      <td>0.0</td>\n",
       "      <td>0.0</td>\n",
       "      <td>22.8</td>\n",
       "    </tr>\n",
       "    <tr>\n",
       "      <th>4</th>\n",
       "      <td>1</td>\n",
       "      <td>2015-01-08 22:44:12</td>\n",
       "      <td>2015-01-08 22:46:16</td>\n",
       "      <td>1</td>\n",
       "      <td>0.40</td>\n",
       "      <td>-73.982948</td>\n",
       "      <td>40.766209</td>\n",
       "      <td>1.0</td>\n",
       "      <td>N</td>\n",
       "      <td>-73.984390</td>\n",
       "      <td>40.764053</td>\n",
       "      <td>2.0</td>\n",
       "      <td>3.5</td>\n",
       "      <td>0.5</td>\n",
       "      <td>0.5</td>\n",
       "      <td>0.0</td>\n",
       "      <td>0.0</td>\n",
       "      <td>4.8</td>\n",
       "    </tr>\n",
       "  </tbody>\n",
       "</table>\n",
       "</div>"
      ],
      "text/plain": [
       "   VendorID tpep_pickup_datetime tpep_dropoff_datetime  passenger_count  \\\n",
       "0         2  2015-01-08 22:44:09   2015-01-08 22:50:56                1   \n",
       "1         1  2015-01-08 22:44:09   2015-01-08 22:51:17                3   \n",
       "2         1  2015-01-08 22:44:10   2015-01-08 22:55:27                1   \n",
       "3         1  2015-01-08 22:44:10   2015-01-08 22:58:09                1   \n",
       "4         1  2015-01-08 22:44:12   2015-01-08 22:46:16                1   \n",
       "\n",
       "   trip_distance  pickup_longitude  pickup_latitude  RateCodeID  \\\n",
       "0           1.55        -73.987686        40.724251         1.0   \n",
       "1           1.20        -73.991570        40.726933         1.0   \n",
       "2           2.40        -73.981918        40.783443         1.0   \n",
       "3           7.30        -73.973122        40.743553         1.0   \n",
       "4           0.40        -73.982948        40.766209         1.0   \n",
       "\n",
       "  store_and_fwd_flag  dropoff_longitude  dropoff_latitude  payment_type  \\\n",
       "0                  N         -73.973763         40.743378           2.0   \n",
       "1                  N         -74.004105         40.721081           2.0   \n",
       "2                  N         -73.952354         40.798199           2.0   \n",
       "3                  N         -73.919571         40.832001           2.0   \n",
       "4                  N         -73.984390         40.764053           2.0   \n",
       "\n",
       "   fare_amount  extra  mta_tax  tip_amount  tolls_amount  total_amount\\r  \n",
       "0          7.5    0.5      0.5         0.0           0.0             8.8  \n",
       "1          7.0    0.5      0.5         0.0           0.0             8.3  \n",
       "2         10.5    0.5      0.5         0.0           0.0            11.8  \n",
       "3         21.5    0.5      0.5         0.0           0.0            22.8  \n",
       "4          3.5    0.5      0.5         0.0           0.0             4.8  "
      ]
     },
     "execution_count": 19,
     "metadata": {},
     "output_type": "execute_result"
    }
   ],
   "source": [
    "df.head()"
   ]
  },
  {
   "cell_type": "markdown",
   "metadata": {},
   "source": [
    "## Familiar experience for Pandas users\n",
    "\n",
    "Dask.dataframes have the same Pandas API loved by data scientists."
   ]
  },
  {
   "cell_type": "code",
   "execution_count": 20,
   "metadata": {
    "collapsed": false
   },
   "outputs": [
    {
     "data": {
      "text/plain": [
       "129332965"
      ]
     },
     "execution_count": 20,
     "metadata": {},
     "output_type": "execute_result"
    }
   ],
   "source": [
    "df.passenger_count.sum().compute()"
   ]
  },
  {
   "cell_type": "code",
   "execution_count": 24,
   "metadata": {
    "collapsed": false
   },
   "outputs": [
    {
     "data": {
      "text/plain": [
       "passenger_count\n",
       "0     2.313313\n",
       "1    19.017508\n",
       "2    17.851579\n",
       "3     0.120515\n",
       "4    11.545251\n",
       "5     3.013812\n",
       "6     2.922961\n",
       "7     4.224845\n",
       "8     3.842568\n",
       "9     5.302687\n",
       "Name: trip_distance, dtype: float64"
      ]
     },
     "execution_count": 24,
     "metadata": {},
     "output_type": "execute_result"
    }
   ],
   "source": [
    "df.groupby(df.passenger_count).trip_distance.mean().compute()"
   ]
  },
  {
   "cell_type": "code",
   "execution_count": 25,
   "metadata": {
    "collapsed": false
   },
   "outputs": [
    {
     "data": {
      "text/html": [
       "<div>\n",
       "<table border=\"1\" class=\"dataframe\">\n",
       "  <thead>\n",
       "    <tr style=\"text-align: right;\">\n",
       "      <th></th>\n",
       "      <th>no_tip</th>\n",
       "      <th>payment_2</th>\n",
       "    </tr>\n",
       "  </thead>\n",
       "  <tbody>\n",
       "    <tr>\n",
       "      <th>0</th>\n",
       "      <td>True</td>\n",
       "      <td>True</td>\n",
       "    </tr>\n",
       "    <tr>\n",
       "      <th>1</th>\n",
       "      <td>True</td>\n",
       "      <td>True</td>\n",
       "    </tr>\n",
       "    <tr>\n",
       "      <th>2</th>\n",
       "      <td>True</td>\n",
       "      <td>True</td>\n",
       "    </tr>\n",
       "    <tr>\n",
       "      <th>3</th>\n",
       "      <td>True</td>\n",
       "      <td>True</td>\n",
       "    </tr>\n",
       "    <tr>\n",
       "      <th>4</th>\n",
       "      <td>True</td>\n",
       "      <td>True</td>\n",
       "    </tr>\n",
       "  </tbody>\n",
       "</table>\n",
       "</div>"
      ],
      "text/plain": [
       "  no_tip payment_2\n",
       "0   True      True\n",
       "1   True      True\n",
       "2   True      True\n",
       "3   True      True\n",
       "4   True      True"
      ]
     },
     "execution_count": 25,
     "metadata": {},
     "output_type": "execute_result"
    }
   ],
   "source": [
    "df2 = df.assign(payment_2=(df.payment_type == 2),\n",
    "                no_tip=(df.tip_amount == 0))[['no_tip', 'payment_2']]\n",
    "df2.head()"
   ]
  },
  {
   "cell_type": "code",
   "execution_count": 26,
   "metadata": {
    "collapsed": false
   },
   "outputs": [
    {
     "data": {
      "text/html": [
       "<div>\n",
       "<table border=\"1\" class=\"dataframe\">\n",
       "  <thead>\n",
       "    <tr style=\"text-align: right;\">\n",
       "      <th></th>\n",
       "      <th>no_tip</th>\n",
       "      <th>payment_2</th>\n",
       "    </tr>\n",
       "  </thead>\n",
       "  <tbody>\n",
       "    <tr>\n",
       "      <th>no_tip</th>\n",
       "      <td>1.000000</td>\n",
       "      <td>0.944811</td>\n",
       "    </tr>\n",
       "    <tr>\n",
       "      <th>payment_2</th>\n",
       "      <td>0.944811</td>\n",
       "      <td>1.000000</td>\n",
       "    </tr>\n",
       "  </tbody>\n",
       "</table>\n",
       "</div>"
      ],
      "text/plain": [
       "             no_tip  payment_2\n",
       "no_tip     1.000000   0.944811\n",
       "payment_2  0.944811   1.000000"
      ]
     },
     "execution_count": 26,
     "metadata": {},
     "output_type": "execute_result"
    }
   ],
   "source": [
    "df2.astype(int).corr().compute()"
   ]
  },
  {
   "cell_type": "markdown",
   "metadata": {},
   "source": [
    "## Look at tips collected by hour of day\n",
    "\n",
    "New Yorkers tip surprisingly well at 4am.  Can you guess why?"
   ]
  },
  {
   "cell_type": "code",
   "execution_count": 27,
   "metadata": {
    "collapsed": true
   },
   "outputs": [],
   "source": [
    "df2 = df[(df.payment_type != 2) & (df.fare_amount > 0)]\n",
    "df2 = df2.assign(tip_fraction=df2.tip_amount / df2.fare_amount)  # ratio of tip to fare"
   ]
  },
  {
   "cell_type": "code",
   "execution_count": 28,
   "metadata": {
    "collapsed": false
   },
   "outputs": [],
   "source": [
    "hour = df2.groupby(df2.tpep_pickup_datetime.dt.hour).tip_fraction.mean()\n",
    "hour = e.persist(hour)\n",
    "progress(hour)"
   ]
  },
  {
   "cell_type": "markdown",
   "metadata": {},
   "source": [
    "## Plot results with Bokeh"
   ]
  },
  {
   "cell_type": "code",
   "execution_count": 24,
   "metadata": {
    "collapsed": false
   },
   "outputs": [
    {
     "data": {
      "text/html": [
       "\n",
       "    <div class=\"bk-banner\">\n",
       "        <a href=\"http://bokeh.pydata.org\" target=\"_blank\" class=\"bk-logo bk-logo-small bk-logo-notebook\"></a>\n",
       "        <span id=\"da4295ec-ea71-4d8c-9cd8-769c35805a8e\">Loading BokehJS ...</span>\n",
       "    </div>"
      ]
     },
     "metadata": {},
     "output_type": "display_data"
    },
    {
     "data": {
      "application/javascript": [
       "\n",
       "(function(global) {\n",
       "  function now() {\n",
       "    return new Date();\n",
       "  }\n",
       "\n",
       "  if (typeof (window._bokeh_onload_callbacks) === \"undefined\") {\n",
       "    window._bokeh_onload_callbacks = [];\n",
       "  }\n",
       "\n",
       "  function run_callbacks() {\n",
       "    window._bokeh_onload_callbacks.forEach(function(callback) { callback() });\n",
       "    delete window._bokeh_onload_callbacks\n",
       "    console.info(\"Bokeh: all callbacks have finished\");\n",
       "  }\n",
       "\n",
       "  function load_libs(js_urls, callback) {\n",
       "    window._bokeh_onload_callbacks.push(callback);\n",
       "    if (window._bokeh_is_loading > 0) {\n",
       "      console.log(\"Bokeh: BokehJS is being loaded, scheduling callback at\", now());\n",
       "      return null;\n",
       "    }\n",
       "    if (js_urls == null || js_urls.length === 0) {\n",
       "      run_callbacks();\n",
       "      return null;\n",
       "    }\n",
       "    console.log(\"Bokeh: BokehJS not loaded, scheduling load and callback at\", now());\n",
       "    window._bokeh_is_loading = js_urls.length;\n",
       "    for (var i = 0; i < js_urls.length; i++) {\n",
       "      var url = js_urls[i];\n",
       "      var s = document.createElement('script');\n",
       "      s.src = url;\n",
       "      s.async = false;\n",
       "      s.onreadystatechange = s.onload = function() {\n",
       "        window._bokeh_is_loading--;\n",
       "        if (window._bokeh_is_loading === 0) {\n",
       "          console.log(\"Bokeh: all BokehJS libraries loaded\");\n",
       "          run_callbacks()\n",
       "        }\n",
       "      };\n",
       "      s.onerror = function() {\n",
       "        console.warn(\"failed to load library \" + url);\n",
       "      };\n",
       "      console.log(\"Bokeh: injecting script tag for BokehJS library: \", url);\n",
       "      document.getElementsByTagName(\"head\")[0].appendChild(s);\n",
       "    }\n",
       "  };\n",
       "\n",
       "  var js_urls = ['https://cdn.pydata.org/bokeh/release/bokeh-0.11.1.min.js', 'https://cdn.pydata.org/bokeh/release/bokeh-widgets-0.11.1.min.js', 'https://cdn.pydata.org/bokeh/release/bokeh-compiler-0.11.1.min.js'];\n",
       "\n",
       "  var inline_js = [\n",
       "    function(Bokeh) {\n",
       "      Bokeh.set_log_level(\"info\");\n",
       "    },\n",
       "    \n",
       "    function(Bokeh) {\n",
       "      Bokeh.$(\"#da4295ec-ea71-4d8c-9cd8-769c35805a8e\").text(\"BokehJS successfully loaded\");\n",
       "    },\n",
       "    function(Bokeh) {\n",
       "      console.log(\"Bokeh: injecting CSS: https://cdn.pydata.org/bokeh/release/bokeh-0.11.1.min.css\");\n",
       "      Bokeh.embed.inject_css(\"https://cdn.pydata.org/bokeh/release/bokeh-0.11.1.min.css\");\n",
       "      console.log(\"Bokeh: injecting CSS: https://cdn.pydata.org/bokeh/release/bokeh-widgets-0.11.1.min.css\");\n",
       "      Bokeh.embed.inject_css(\"https://cdn.pydata.org/bokeh/release/bokeh-widgets-0.11.1.min.css\");\n",
       "    }\n",
       "  ];\n",
       "\n",
       "  function run_inline_js() {\n",
       "    for (var i = 0; i < inline_js.length; i++) {\n",
       "      inline_js[i](window.Bokeh);\n",
       "    }\n",
       "  }\n",
       "\n",
       "  if (window._bokeh_is_loading === 0) {\n",
       "    console.log(\"Bokeh: BokehJS loaded, going straight to plotting\");\n",
       "    run_inline_js();\n",
       "  } else {\n",
       "    load_libs(js_urls, function() {\n",
       "      console.log(\"Bokeh: BokehJS plotting callback run at\", now());\n",
       "      run_inline_js();\n",
       "    });\n",
       "  }\n",
       "}(this));"
      ]
     },
     "metadata": {},
     "output_type": "display_data"
    },
    {
     "data": {
      "text/html": [
       "\n",
       "\n",
       "    <div class=\"plotdiv\" id=\"0da75439-15e4-460b-acaf-6ea650a08dbe\"></div>\n",
       "<script type=\"text/javascript\">\n",
       "  \n",
       "  (function(global) {\n",
       "    function now() {\n",
       "      return new Date();\n",
       "    }\n",
       "  \n",
       "    if (typeof (window._bokeh_onload_callbacks) === \"undefined\") {\n",
       "      window._bokeh_onload_callbacks = [];\n",
       "    }\n",
       "  \n",
       "    function run_callbacks() {\n",
       "      window._bokeh_onload_callbacks.forEach(function(callback) { callback() });\n",
       "      delete window._bokeh_onload_callbacks\n",
       "      console.info(\"Bokeh: all callbacks have finished\");\n",
       "    }\n",
       "  \n",
       "    function load_libs(js_urls, callback) {\n",
       "      window._bokeh_onload_callbacks.push(callback);\n",
       "      if (window._bokeh_is_loading > 0) {\n",
       "        console.log(\"Bokeh: BokehJS is being loaded, scheduling callback at\", now());\n",
       "        return null;\n",
       "      }\n",
       "      if (js_urls == null || js_urls.length === 0) {\n",
       "        run_callbacks();\n",
       "        return null;\n",
       "      }\n",
       "      console.log(\"Bokeh: BokehJS not loaded, scheduling load and callback at\", now());\n",
       "      window._bokeh_is_loading = js_urls.length;\n",
       "      for (var i = 0; i < js_urls.length; i++) {\n",
       "        var url = js_urls[i];\n",
       "        var s = document.createElement('script');\n",
       "        s.src = url;\n",
       "        s.async = false;\n",
       "        s.onreadystatechange = s.onload = function() {\n",
       "          window._bokeh_is_loading--;\n",
       "          if (window._bokeh_is_loading === 0) {\n",
       "            console.log(\"Bokeh: all BokehJS libraries loaded\");\n",
       "            run_callbacks()\n",
       "          }\n",
       "        };\n",
       "        s.onerror = function() {\n",
       "          console.warn(\"failed to load library \" + url);\n",
       "        };\n",
       "        console.log(\"Bokeh: injecting script tag for BokehJS library: \", url);\n",
       "        document.getElementsByTagName(\"head\")[0].appendChild(s);\n",
       "      }\n",
       "    };var element = document.getElementById(\"0da75439-15e4-460b-acaf-6ea650a08dbe\");\n",
       "    if (element == null) {\n",
       "      console.log(\"Bokeh: ERROR: autoload.js configured with elementid '0da75439-15e4-460b-acaf-6ea650a08dbe' but no matching script tag was found. \")\n",
       "      return false;\n",
       "    }\n",
       "  \n",
       "    var js_urls = [];\n",
       "  \n",
       "    var inline_js = [\n",
       "      function(Bokeh) {\n",
       "        Bokeh.$(function() {\n",
       "            var docs_json = {\"82e5dc61-fa2f-4271-925f-0b0e30edf094\":{\"roots\":{\"references\":[{\"attributes\":{\"line_alpha\":{\"value\":0.1},\"line_color\":{\"value\":\"#1f77b4\"},\"line_width\":{\"value\":3},\"x\":{\"field\":\"x\"},\"y\":{\"field\":\"y\"}},\"id\":\"08a62539-d86c-4d16-bf77-af3bfc7e06af\",\"type\":\"Line\"},{\"attributes\":{\"plot\":{\"id\":\"7047c37c-c153-4e31-82df-4f1a7ca2b724\",\"subtype\":\"Figure\",\"type\":\"Plot\"}},\"id\":\"f5abaa7e-7918-4cc5-9b80-042aa9d014fc\",\"type\":\"ResetTool\"},{\"attributes\":{\"dimension\":1,\"plot\":{\"id\":\"62e6776b-20dc-4832-836c-930679169f97\",\"subtype\":\"Figure\",\"type\":\"Plot\"},\"ticker\":{\"id\":\"505a3921-5715-43bc-8079-1bca6dd01421\",\"type\":\"BasicTicker\"}},\"id\":\"520cefcd-674a-41f8-95c5-afedd19a6851\",\"type\":\"Grid\"},{\"attributes\":{\"plot\":{\"id\":\"45351c80-5246-481b-baeb-dc2d018657cc\",\"subtype\":\"Figure\",\"type\":\"Plot\"}},\"id\":\"b838b974-cc02-466d-a84c-886b10f0a4f3\",\"type\":\"ResizeTool\"},{\"attributes\":{\"plot\":{\"id\":\"7047c37c-c153-4e31-82df-4f1a7ca2b724\",\"subtype\":\"Figure\",\"type\":\"Plot\"}},\"id\":\"6684bd3e-c64e-4a2b-a941-b36e9b98cd08\",\"type\":\"WheelZoomTool\"},{\"attributes\":{\"plot\":{\"id\":\"7047c37c-c153-4e31-82df-4f1a7ca2b724\",\"subtype\":\"Figure\",\"type\":\"Plot\"}},\"id\":\"9651863d-c772-443c-8f09-59d9a7752c3c\",\"type\":\"PanTool\"},{\"attributes\":{},\"id\":\"3457a8ef-fe7b-4fb2-9742-2ed0de9fb0ba\",\"type\":\"BasicTicker\"},{\"attributes\":{\"plot\":{\"id\":\"45351c80-5246-481b-baeb-dc2d018657cc\",\"subtype\":\"Figure\",\"type\":\"Plot\"}},\"id\":\"5b1c0667-9d1d-4ad9-92ce-066fb788fa02\",\"type\":\"HelpTool\"},{\"attributes\":{},\"id\":\"e5c20367-70f0-4ed2-97d6-ea2bf69f98d9\",\"type\":\"BasicTickFormatter\"},{\"attributes\":{\"plot\":{\"id\":\"45351c80-5246-481b-baeb-dc2d018657cc\",\"subtype\":\"Figure\",\"type\":\"Plot\"}},\"id\":\"36e7d4de-0166-4dc5-8929-b09f152923a0\",\"type\":\"ResetTool\"},{\"attributes\":{\"plot\":{\"id\":\"56237a1a-3deb-4ff1-9392-47ba1ea4205b\",\"subtype\":\"Figure\",\"type\":\"Plot\"}},\"id\":\"58233533-6ec1-485c-bc5f-16c427f7ef42\",\"type\":\"WheelZoomTool\"},{\"attributes\":{\"plot\":{\"id\":\"62e6776b-20dc-4832-836c-930679169f97\",\"subtype\":\"Figure\",\"type\":\"Plot\"}},\"id\":\"c6243b19-7c83-48e5-acc6-0b6786566c2d\",\"type\":\"WheelZoomTool\"},{\"attributes\":{\"line_color\":{\"value\":\"#1f77b4\"},\"line_width\":{\"value\":3},\"x\":{\"field\":\"x\"},\"y\":{\"field\":\"y\"}},\"id\":\"5423ce53-184b-494d-a907-bc8256fc1445\",\"type\":\"Line\"},{\"attributes\":{\"axis_label\":\"Hour of day\",\"formatter\":{\"id\":\"cf19951c-ae0c-4fef-83af-f74e525d720a\",\"type\":\"BasicTickFormatter\"},\"plot\":{\"id\":\"45351c80-5246-481b-baeb-dc2d018657cc\",\"subtype\":\"Figure\",\"type\":\"Plot\"},\"ticker\":{\"id\":\"c61c0553-498f-4e85-b961-ed038fc59aff\",\"type\":\"BasicTicker\"}},\"id\":\"c94cbeba-0674-4a07-9cb2-8850f23b2d34\",\"type\":\"LinearAxis\"},{\"attributes\":{\"callback\":null,\"start\":0},\"id\":\"ed8413b1-d672-47ce-9486-e5a07d1831a1\",\"type\":\"DataRange1d\"},{\"attributes\":{\"plot\":{\"id\":\"7047c37c-c153-4e31-82df-4f1a7ca2b724\",\"subtype\":\"Figure\",\"type\":\"Plot\"}},\"id\":\"10df01f9-3f4f-42ad-b123-68e534b2e363\",\"type\":\"ResizeTool\"},{\"attributes\":{\"callback\":null},\"id\":\"8a0546e4-36fb-4229-bd68-f2af65139cb3\",\"type\":\"DataRange1d\"},{\"attributes\":{\"plot\":{\"id\":\"7047c37c-c153-4e31-82df-4f1a7ca2b724\",\"subtype\":\"Figure\",\"type\":\"Plot\"}},\"id\":\"0690ed5d-c199-4f99-b9d1-bde12a233162\",\"type\":\"HelpTool\"},{\"attributes\":{\"plot\":{\"id\":\"45351c80-5246-481b-baeb-dc2d018657cc\",\"subtype\":\"Figure\",\"type\":\"Plot\"},\"ticker\":{\"id\":\"c61c0553-498f-4e85-b961-ed038fc59aff\",\"type\":\"BasicTicker\"}},\"id\":\"972e0683-bdf2-498a-8363-342131914937\",\"type\":\"Grid\"},{\"attributes\":{\"plot\":{\"id\":\"9de9eee3-e203-4476-9524-713442528289\",\"subtype\":\"Figure\",\"type\":\"Plot\"}},\"id\":\"8636a84a-763a-43b4-9cc6-28ff384ba240\",\"type\":\"PreviewSaveTool\"},{\"attributes\":{},\"id\":\"c61c0553-498f-4e85-b961-ed038fc59aff\",\"type\":\"BasicTicker\"},{\"attributes\":{\"axis_label\":\"Tip Fraction\",\"formatter\":{\"id\":\"eeb0e4e7-a1f4-4148-9e1f-a45524646174\",\"type\":\"BasicTickFormatter\"},\"plot\":{\"id\":\"9de9eee3-e203-4476-9524-713442528289\",\"subtype\":\"Figure\",\"type\":\"Plot\"},\"ticker\":{\"id\":\"3457a8ef-fe7b-4fb2-9742-2ed0de9fb0ba\",\"type\":\"BasicTicker\"}},\"id\":\"750980d4-0aab-4e5e-8395-e85ddbeadf8b\",\"type\":\"LinearAxis\"},{\"attributes\":{},\"id\":\"9fe804b5-0a0f-4f32-82a3-32c8faee87f9\",\"type\":\"ToolEvents\"},{\"attributes\":{\"axis_label\":\"Hour of day\",\"formatter\":{\"id\":\"a3ab4088-249f-41c9-b528-c5fc20de3fac\",\"type\":\"BasicTickFormatter\"},\"plot\":{\"id\":\"9de9eee3-e203-4476-9524-713442528289\",\"subtype\":\"Figure\",\"type\":\"Plot\"},\"ticker\":{\"id\":\"aad0af37-8f99-48a1-b87d-dfeced279676\",\"type\":\"BasicTicker\"}},\"id\":\"6e982a3e-65f2-4aa0-a6d0-b03b9d225f73\",\"type\":\"LinearAxis\"},{\"attributes\":{},\"id\":\"eeb0e4e7-a1f4-4148-9e1f-a45524646174\",\"type\":\"BasicTickFormatter\"},{\"attributes\":{\"plot\":{\"id\":\"56237a1a-3deb-4ff1-9392-47ba1ea4205b\",\"subtype\":\"Figure\",\"type\":\"Plot\"}},\"id\":\"066f17e9-77b8-4f9f-9c9f-04de13e40c3e\",\"type\":\"ResetTool\"},{\"attributes\":{\"callback\":null,\"column_names\":[\"y\",\"x\"],\"data\":{\"x\":[0,1,2,3,4,5,6,7,8,9,10,11,12,13,14,15,16,17,18,19,20,21,22,23],\"y\":[0.2594985788728269,0.26432659925232965,0.2940258342304813,0.29106751801075953,0.33057305695558686,0.2380147987667258,0.23465345221313277,0.21558078815743828,0.21477177392706492,0.2115615436443135,0.22691332449752546,0.23700708350740804,0.233839718189164,0.23244034571821237,0.2405161318015222,0.22445481756936625,0.23192418272155133,0.2375414142788479,0.2404402621229842,0.2947791451850461,0.22615166148334145,0.2456239213446206,0.24443008996856688,0.24092943041831774]}},\"id\":\"64dfbeae-d699-4e0d-b929-22f99fd2827c\",\"type\":\"ColumnDataSource\"},{\"attributes\":{\"callback\":null},\"id\":\"605b8cf2-38a4-42f4-b2a3-78712152f78f\",\"type\":\"DataRange1d\"},{\"attributes\":{},\"id\":\"338c75c8-7a71-4247-b536-36b5573fbf42\",\"type\":\"BasicTickFormatter\"},{\"attributes\":{\"callback\":null,\"column_names\":[\"y\",\"x\"],\"data\":{\"x\":[0,1,2,3,4,5,6,7,8,9,10,11,12,13,14,15,16,17,18,19,20,21,22,23],\"y\":[0.2594985788728269,0.26432659925232965,0.2940258342304813,0.29106751801075953,0.33057305695558686,0.2380147987667258,0.23465345221313277,0.21558078815743828,0.21477177392706492,0.2115615436443135,0.22691332449752546,0.23700708350740804,0.233839718189164,0.23244034571821237,0.2405161318015222,0.22445481756936625,0.23192418272155133,0.2375414142788479,0.2404402621229842,0.2947791451850461,0.22615166148334145,0.2456239213446206,0.24443008996856688,0.24092943041831774]}},\"id\":\"1ee0c876-4d74-4c5e-ab66-7febf6621e44\",\"type\":\"ColumnDataSource\"},{\"attributes\":{\"plot\":{\"id\":\"62e6776b-20dc-4832-836c-930679169f97\",\"subtype\":\"Figure\",\"type\":\"Plot\"}},\"id\":\"116ee45f-80ff-4315-a653-bf90266b4bad\",\"type\":\"PreviewSaveTool\"},{\"attributes\":{},\"id\":\"afcc54c3-df35-4e7f-bbb1-76d8571184b0\",\"type\":\"BasicTicker\"},{\"attributes\":{\"callback\":null,\"start\":0},\"id\":\"c3852e2f-8914-4cc4-aed4-0984609c61b8\",\"type\":\"DataRange1d\"},{\"attributes\":{\"below\":[{\"id\":\"041116ee-df62-471a-b3f3-c39e34f71363\",\"type\":\"LinearAxis\"}],\"left\":[{\"id\":\"e0defb53-2c5e-412c-a3b0-b2246bc70dd7\",\"type\":\"LinearAxis\"}],\"renderers\":[{\"id\":\"041116ee-df62-471a-b3f3-c39e34f71363\",\"type\":\"LinearAxis\"},{\"id\":\"76feeff0-1571-488f-9fed-4b9f2d0985c3\",\"type\":\"Grid\"},{\"id\":\"e0defb53-2c5e-412c-a3b0-b2246bc70dd7\",\"type\":\"LinearAxis\"},{\"id\":\"520cefcd-674a-41f8-95c5-afedd19a6851\",\"type\":\"Grid\"},{\"id\":\"4631ebfd-2b9b-4f33-a7f8-17ff56d67e25\",\"type\":\"BoxAnnotation\"},{\"id\":\"35ddcb52-1afc-42a1-a1ac-92e5c46d0971\",\"type\":\"GlyphRenderer\"}],\"title\":\"Tip Fraction\",\"tool_events\":{\"id\":\"33666b1f-f17f-4745-9f6f-56357c525b27\",\"type\":\"ToolEvents\"},\"tools\":[{\"id\":\"94459645-2d83-4b27-8e1c-6f990f853570\",\"type\":\"PanTool\"},{\"id\":\"c6243b19-7c83-48e5-acc6-0b6786566c2d\",\"type\":\"WheelZoomTool\"},{\"id\":\"2ccdfec1-4997-4430-9118-6906ea0a9562\",\"type\":\"BoxZoomTool\"},{\"id\":\"116ee45f-80ff-4315-a653-bf90266b4bad\",\"type\":\"PreviewSaveTool\"},{\"id\":\"0b105082-446a-4fd7-b5ba-5cfed91ebf47\",\"type\":\"ResizeTool\"},{\"id\":\"4bcae374-7923-4387-a6a3-2a45d77f4e31\",\"type\":\"ResetTool\"},{\"id\":\"c74c5810-1017-465d-b18b-0ff117c4d627\",\"type\":\"HelpTool\"}],\"x_range\":{\"id\":\"ba3dbdb7-cac9-4863-a796-1e0cc54b35ad\",\"type\":\"DataRange1d\"},\"y_range\":{\"id\":\"ed8413b1-d672-47ce-9486-e5a07d1831a1\",\"type\":\"DataRange1d\"}},\"id\":\"62e6776b-20dc-4832-836c-930679169f97\",\"subtype\":\"Figure\",\"type\":\"Plot\"},{\"attributes\":{\"line_alpha\":{\"value\":0.1},\"line_color\":{\"value\":\"#1f77b4\"},\"x\":{\"field\":\"x\"},\"y\":{\"field\":\"y\"}},\"id\":\"b7ff2509-e55c-4bd8-b5b5-7bdd158501c0\",\"type\":\"Line\"},{\"attributes\":{\"line_alpha\":{\"value\":0.1},\"line_color\":{\"value\":\"#1f77b4\"},\"line_width\":{\"value\":3},\"x\":{\"field\":\"x\"},\"y\":{\"field\":\"y\"}},\"id\":\"a1ed7dbf-247b-41ac-b921-edc9e2b1df01\",\"type\":\"Line\"},{\"attributes\":{},\"id\":\"505a3921-5715-43bc-8079-1bca6dd01421\",\"type\":\"BasicTicker\"},{\"attributes\":{\"callback\":null},\"id\":\"ba3dbdb7-cac9-4863-a796-1e0cc54b35ad\",\"type\":\"DataRange1d\"},{\"attributes\":{},\"id\":\"9ef2cffb-cf41-4122-971b-fae421e9fb14\",\"type\":\"BasicTicker\"},{\"attributes\":{\"dimension\":1,\"plot\":{\"id\":\"7047c37c-c153-4e31-82df-4f1a7ca2b724\",\"subtype\":\"Figure\",\"type\":\"Plot\"},\"ticker\":{\"id\":\"163d3c34-1448-4de8-88a0-9f77b48c9f39\",\"type\":\"BasicTicker\"}},\"id\":\"62f8a9aa-93f2-4215-ae07-6100bdec3a9f\",\"type\":\"Grid\"},{\"attributes\":{\"axis_label\":\"Hour of day\",\"formatter\":{\"id\":\"b93ef48b-52f1-4f32-857c-2260130ec61c\",\"type\":\"BasicTickFormatter\"},\"plot\":{\"id\":\"56237a1a-3deb-4ff1-9392-47ba1ea4205b\",\"subtype\":\"Figure\",\"type\":\"Plot\"},\"ticker\":{\"id\":\"c24e167c-06aa-47ff-af86-02ad84a95699\",\"type\":\"BasicTicker\"}},\"id\":\"cf18f031-6ac2-4c1d-909d-695274fb60b4\",\"type\":\"LinearAxis\"},{\"attributes\":{\"plot\":{\"id\":\"7047c37c-c153-4e31-82df-4f1a7ca2b724\",\"subtype\":\"Figure\",\"type\":\"Plot\"}},\"id\":\"3ef4815f-d41e-4463-8bf1-62f6c3c2cb62\",\"type\":\"PreviewSaveTool\"},{\"attributes\":{\"line_alpha\":{\"value\":0.1},\"line_color\":{\"value\":\"#1f77b4\"},\"line_width\":{\"value\":2},\"x\":{\"field\":\"x\"},\"y\":{\"field\":\"y\"}},\"id\":\"96b383b3-9c1d-4872-8628-c1e433f34eae\",\"type\":\"Line\"},{\"attributes\":{\"line_color\":{\"value\":\"#1f77b4\"},\"line_width\":{\"value\":2},\"x\":{\"field\":\"x\"},\"y\":{\"field\":\"y\"}},\"id\":\"c04abcb6-da93-4a2c-b914-b53ec4c6c196\",\"type\":\"Line\"},{\"attributes\":{\"plot\":{\"id\":\"9de9eee3-e203-4476-9524-713442528289\",\"subtype\":\"Figure\",\"type\":\"Plot\"}},\"id\":\"383bf77b-b174-4043-93d8-0835340a3267\",\"type\":\"ResizeTool\"},{\"attributes\":{\"plot\":{\"id\":\"9de9eee3-e203-4476-9524-713442528289\",\"subtype\":\"Figure\",\"type\":\"Plot\"}},\"id\":\"3da88485-ccd5-4396-bb2b-0fd2b947d0d8\",\"type\":\"PanTool\"},{\"attributes\":{\"axis_label\":\"Tip Fraction\",\"formatter\":{\"id\":\"43636314-f534-46ca-9927-30966c73be76\",\"type\":\"BasicTickFormatter\"},\"plot\":{\"id\":\"45351c80-5246-481b-baeb-dc2d018657cc\",\"subtype\":\"Figure\",\"type\":\"Plot\"},\"ticker\":{\"id\":\"70feba2f-a529-4973-9ea5-9cf619b16730\",\"type\":\"BasicTicker\"}},\"id\":\"4dd6bf38-ba04-47d3-b734-eef9d1f4cdb1\",\"type\":\"LinearAxis\"},{\"attributes\":{\"callback\":null},\"id\":\"eaa4a05c-b01c-4e0d-808f-b21aba18674d\",\"type\":\"DataRange1d\"},{\"attributes\":{},\"id\":\"b8aa63d7-6400-4c35-a864-26358a7c1764\",\"type\":\"BasicTicker\"},{\"attributes\":{\"below\":[{\"id\":\"6e982a3e-65f2-4aa0-a6d0-b03b9d225f73\",\"type\":\"LinearAxis\"}],\"left\":[{\"id\":\"750980d4-0aab-4e5e-8395-e85ddbeadf8b\",\"type\":\"LinearAxis\"}],\"renderers\":[{\"id\":\"6e982a3e-65f2-4aa0-a6d0-b03b9d225f73\",\"type\":\"LinearAxis\"},{\"id\":\"5b76e14d-3bce-4122-98a1-fff6df1ff10e\",\"type\":\"Grid\"},{\"id\":\"750980d4-0aab-4e5e-8395-e85ddbeadf8b\",\"type\":\"LinearAxis\"},{\"id\":\"03d01f74-f26b-4ba6-8bbc-a48f1ce28fe1\",\"type\":\"Grid\"},{\"id\":\"64955ade-1029-44bc-b079-828ae950afdf\",\"type\":\"BoxAnnotation\"},{\"id\":\"3afaa2c4-97ac-4b15-bb2a-d3c7dd34fe1f\",\"type\":\"GlyphRenderer\"}],\"title\":\"Tip Fraction\",\"tool_events\":{\"id\":\"620cc914-991d-4e03-9da2-ac9cdc9aaf06\",\"type\":\"ToolEvents\"},\"tools\":[{\"id\":\"3da88485-ccd5-4396-bb2b-0fd2b947d0d8\",\"type\":\"PanTool\"},{\"id\":\"37af6420-f2aa-4d21-9743-a57556514600\",\"type\":\"WheelZoomTool\"},{\"id\":\"01dfa05f-6825-41cf-b08e-c17e2f84aa01\",\"type\":\"BoxZoomTool\"},{\"id\":\"8636a84a-763a-43b4-9cc6-28ff384ba240\",\"type\":\"PreviewSaveTool\"},{\"id\":\"383bf77b-b174-4043-93d8-0835340a3267\",\"type\":\"ResizeTool\"},{\"id\":\"ac9d0bfc-24bd-463d-a1c5-1a5a4743b40e\",\"type\":\"ResetTool\"},{\"id\":\"a7f0a665-62d8-4dbf-9b27-e4f8bbc306d8\",\"type\":\"HelpTool\"}],\"x_range\":{\"id\":\"8a0546e4-36fb-4229-bd68-f2af65139cb3\",\"type\":\"DataRange1d\"},\"y_range\":{\"id\":\"5f630156-76ef-40f3-8d93-9aa2232a9f05\",\"type\":\"DataRange1d\"}},\"id\":\"9de9eee3-e203-4476-9524-713442528289\",\"subtype\":\"Figure\",\"type\":\"Plot\"},{\"attributes\":{\"data_source\":{\"id\":\"d636c505-e745-4e53-8e02-5dd147791c40\",\"type\":\"ColumnDataSource\"},\"glyph\":{\"id\":\"5423ce53-184b-494d-a907-bc8256fc1445\",\"type\":\"Line\"},\"hover_glyph\":null,\"nonselection_glyph\":{\"id\":\"08a62539-d86c-4d16-bf77-af3bfc7e06af\",\"type\":\"Line\"},\"selection_glyph\":null},\"id\":\"35ddcb52-1afc-42a1-a1ac-92e5c46d0971\",\"type\":\"GlyphRenderer\"},{\"attributes\":{},\"id\":\"ac61733c-1701-47ca-826f-1347db24dbf5\",\"type\":\"BasicTickFormatter\"},{\"attributes\":{},\"id\":\"cf19951c-ae0c-4fef-83af-f74e525d720a\",\"type\":\"BasicTickFormatter\"},{\"attributes\":{\"bottom_units\":\"screen\",\"fill_alpha\":{\"value\":0.5},\"fill_color\":{\"value\":\"lightgrey\"},\"left_units\":\"screen\",\"level\":\"overlay\",\"line_alpha\":{\"value\":1.0},\"line_color\":{\"value\":\"black\"},\"line_dash\":[4,4],\"line_width\":{\"value\":2},\"plot\":null,\"render_mode\":\"css\",\"right_units\":\"screen\",\"top_units\":\"screen\"},\"id\":\"64955ade-1029-44bc-b079-828ae950afdf\",\"type\":\"BoxAnnotation\"},{\"attributes\":{\"below\":[{\"id\":\"cf18f031-6ac2-4c1d-909d-695274fb60b4\",\"type\":\"LinearAxis\"}],\"left\":[{\"id\":\"509c3f5f-6f05-4092-9dfb-815d86938888\",\"type\":\"LinearAxis\"}],\"renderers\":[{\"id\":\"cf18f031-6ac2-4c1d-909d-695274fb60b4\",\"type\":\"LinearAxis\"},{\"id\":\"59cf981a-b86a-46b3-9144-1387738d2f90\",\"type\":\"Grid\"},{\"id\":\"509c3f5f-6f05-4092-9dfb-815d86938888\",\"type\":\"LinearAxis\"},{\"id\":\"a314fd69-d9fa-466c-8fbe-3d80961f9e6b\",\"type\":\"Grid\"},{\"id\":\"0b986f05-a63d-4699-9fc0-38bcfa7f5582\",\"type\":\"BoxAnnotation\"},{\"id\":\"9806d578-342b-4d01-b9a3-1b6b42835dcf\",\"type\":\"GlyphRenderer\"}],\"title\":\"Tip Fraction\",\"tool_events\":{\"id\":\"5456ab5e-1e51-4e2d-ac9e-c7a7f7aa507c\",\"type\":\"ToolEvents\"},\"tools\":[{\"id\":\"ec585533-1071-4dd5-8486-bfa90f7cb072\",\"type\":\"PanTool\"},{\"id\":\"58233533-6ec1-485c-bc5f-16c427f7ef42\",\"type\":\"WheelZoomTool\"},{\"id\":\"c6563466-b909-40b5-bc54-dabcdbe3a04a\",\"type\":\"BoxZoomTool\"},{\"id\":\"94607d75-4fb1-4519-89ea-8c9436f4d15c\",\"type\":\"PreviewSaveTool\"},{\"id\":\"ebd5633e-5558-4d34-b57e-cc5ae4ebee49\",\"type\":\"ResizeTool\"},{\"id\":\"066f17e9-77b8-4f9f-9c9f-04de13e40c3e\",\"type\":\"ResetTool\"},{\"id\":\"9a0ba2d4-0a22-420c-8b33-0ea7dcace1ec\",\"type\":\"HelpTool\"}],\"x_range\":{\"id\":\"2c3fb617-9d96-4b7b-b050-9b711b6b737e\",\"type\":\"DataRange1d\"},\"y_range\":{\"id\":\"ac4eda75-4c0a-492a-94f6-f3c977f14a8b\",\"type\":\"DataRange1d\"}},\"id\":\"56237a1a-3deb-4ff1-9392-47ba1ea4205b\",\"subtype\":\"Figure\",\"type\":\"Plot\"},{\"attributes\":{\"plot\":{\"id\":\"56237a1a-3deb-4ff1-9392-47ba1ea4205b\",\"subtype\":\"Figure\",\"type\":\"Plot\"}},\"id\":\"9a0ba2d4-0a22-420c-8b33-0ea7dcace1ec\",\"type\":\"HelpTool\"},{\"attributes\":{\"callback\":null},\"id\":\"2c3fb617-9d96-4b7b-b050-9b711b6b737e\",\"type\":\"DataRange1d\"},{\"attributes\":{\"plot\":{\"id\":\"9de9eee3-e203-4476-9524-713442528289\",\"subtype\":\"Figure\",\"type\":\"Plot\"}},\"id\":\"a7f0a665-62d8-4dbf-9b27-e4f8bbc306d8\",\"type\":\"HelpTool\"},{\"attributes\":{},\"id\":\"a3ab4088-249f-41c9-b528-c5fc20de3fac\",\"type\":\"BasicTickFormatter\"},{\"attributes\":{\"data_source\":{\"id\":\"64dfbeae-d699-4e0d-b929-22f99fd2827c\",\"type\":\"ColumnDataSource\"},\"glyph\":{\"id\":\"7b60863b-32a8-41df-a5e7-c9b98f72425b\",\"type\":\"Line\"},\"hover_glyph\":null,\"nonselection_glyph\":{\"id\":\"a1ed7dbf-247b-41ac-b921-edc9e2b1df01\",\"type\":\"Line\"},\"selection_glyph\":null},\"id\":\"9806d578-342b-4d01-b9a3-1b6b42835dcf\",\"type\":\"GlyphRenderer\"},{\"attributes\":{\"overlay\":{\"id\":\"ccc15d8f-e560-4cb0-8e55-68fa82ee0e61\",\"type\":\"BoxAnnotation\"},\"plot\":{\"id\":\"45351c80-5246-481b-baeb-dc2d018657cc\",\"subtype\":\"Figure\",\"type\":\"Plot\"}},\"id\":\"b393226d-1e32-4674-aac5-9cab3f3d9f9f\",\"type\":\"BoxZoomTool\"},{\"attributes\":{\"dimension\":1,\"plot\":{\"id\":\"9de9eee3-e203-4476-9524-713442528289\",\"subtype\":\"Figure\",\"type\":\"Plot\"},\"ticker\":{\"id\":\"3457a8ef-fe7b-4fb2-9742-2ed0de9fb0ba\",\"type\":\"BasicTicker\"}},\"id\":\"03d01f74-f26b-4ba6-8bbc-a48f1ce28fe1\",\"type\":\"Grid\"},{\"attributes\":{\"overlay\":{\"id\":\"0b986f05-a63d-4699-9fc0-38bcfa7f5582\",\"type\":\"BoxAnnotation\"},\"plot\":{\"id\":\"56237a1a-3deb-4ff1-9392-47ba1ea4205b\",\"subtype\":\"Figure\",\"type\":\"Plot\"}},\"id\":\"c6563466-b909-40b5-bc54-dabcdbe3a04a\",\"type\":\"BoxZoomTool\"},{\"attributes\":{\"overlay\":{\"id\":\"ac0f7e09-356c-4ac8-a011-da0009dfffa2\",\"type\":\"BoxAnnotation\"},\"plot\":{\"id\":\"7047c37c-c153-4e31-82df-4f1a7ca2b724\",\"subtype\":\"Figure\",\"type\":\"Plot\"}},\"id\":\"cf6d06bf-84bb-4957-8557-5cffa81f64e5\",\"type\":\"BoxZoomTool\"},{\"attributes\":{},\"id\":\"70feba2f-a529-4973-9ea5-9cf619b16730\",\"type\":\"BasicTicker\"},{\"attributes\":{\"plot\":{\"id\":\"62e6776b-20dc-4832-836c-930679169f97\",\"subtype\":\"Figure\",\"type\":\"Plot\"},\"ticker\":{\"id\":\"b8aa63d7-6400-4c35-a864-26358a7c1764\",\"type\":\"BasicTicker\"}},\"id\":\"76feeff0-1571-488f-9fed-4b9f2d0985c3\",\"type\":\"Grid\"},{\"attributes\":{\"plot\":{\"id\":\"7047c37c-c153-4e31-82df-4f1a7ca2b724\",\"subtype\":\"Figure\",\"type\":\"Plot\"},\"ticker\":{\"id\":\"9ef2cffb-cf41-4122-971b-fae421e9fb14\",\"type\":\"BasicTicker\"}},\"id\":\"0fabf21f-6239-460a-bafd-4930110fa5e6\",\"type\":\"Grid\"},{\"attributes\":{\"axis_label\":\"Tip Fraction\",\"formatter\":{\"id\":\"e5c20367-70f0-4ed2-97d6-ea2bf69f98d9\",\"type\":\"BasicTickFormatter\"},\"plot\":{\"id\":\"62e6776b-20dc-4832-836c-930679169f97\",\"subtype\":\"Figure\",\"type\":\"Plot\"},\"ticker\":{\"id\":\"505a3921-5715-43bc-8079-1bca6dd01421\",\"type\":\"BasicTicker\"}},\"id\":\"e0defb53-2c5e-412c-a3b0-b2246bc70dd7\",\"type\":\"LinearAxis\"},{\"attributes\":{\"plot\":{\"id\":\"62e6776b-20dc-4832-836c-930679169f97\",\"subtype\":\"Figure\",\"type\":\"Plot\"}},\"id\":\"c74c5810-1017-465d-b18b-0ff117c4d627\",\"type\":\"HelpTool\"},{\"attributes\":{\"data_source\":{\"id\":\"f16f2b53-b955-43a5-bc53-51003cc23729\",\"type\":\"ColumnDataSource\"},\"glyph\":{\"id\":\"c04abcb6-da93-4a2c-b914-b53ec4c6c196\",\"type\":\"Line\"},\"hover_glyph\":null,\"nonselection_glyph\":{\"id\":\"96b383b3-9c1d-4872-8628-c1e433f34eae\",\"type\":\"Line\"},\"selection_glyph\":null},\"id\":\"0c8d2229-9b9b-4089-83f5-c02d9abbe72d\",\"type\":\"GlyphRenderer\"},{\"attributes\":{\"data_source\":{\"id\":\"8dadf37d-a9be-4dc1-b057-74dbca93c026\",\"type\":\"ColumnDataSource\"},\"glyph\":{\"id\":\"6b87af87-b432-4bb0-ad38-75d9a888aa38\",\"type\":\"Line\"},\"hover_glyph\":null,\"nonselection_glyph\":{\"id\":\"78b153c9-6684-4f37-9f17-8041105edc4e\",\"type\":\"Line\"},\"selection_glyph\":null},\"id\":\"8530e2e5-e09b-4952-a987-5ee05c5e1998\",\"type\":\"GlyphRenderer\"},{\"attributes\":{\"dimension\":1,\"plot\":{\"id\":\"45351c80-5246-481b-baeb-dc2d018657cc\",\"subtype\":\"Figure\",\"type\":\"Plot\"},\"ticker\":{\"id\":\"70feba2f-a529-4973-9ea5-9cf619b16730\",\"type\":\"BasicTicker\"}},\"id\":\"cb4a3acf-c732-4422-9425-af6433b7c6d8\",\"type\":\"Grid\"},{\"attributes\":{\"bottom_units\":\"screen\",\"fill_alpha\":{\"value\":0.5},\"fill_color\":{\"value\":\"lightgrey\"},\"left_units\":\"screen\",\"level\":\"overlay\",\"line_alpha\":{\"value\":1.0},\"line_color\":{\"value\":\"black\"},\"line_dash\":[4,4],\"line_width\":{\"value\":2},\"plot\":null,\"render_mode\":\"css\",\"right_units\":\"screen\",\"top_units\":\"screen\"},\"id\":\"0b986f05-a63d-4699-9fc0-38bcfa7f5582\",\"type\":\"BoxAnnotation\"},{\"attributes\":{\"plot\":{\"id\":\"45351c80-5246-481b-baeb-dc2d018657cc\",\"subtype\":\"Figure\",\"type\":\"Plot\"}},\"id\":\"a2a9a870-de3f-4b61-9854-885b03a7fd2d\",\"type\":\"PreviewSaveTool\"},{\"attributes\":{\"plot\":{\"id\":\"9de9eee3-e203-4476-9524-713442528289\",\"subtype\":\"Figure\",\"type\":\"Plot\"}},\"id\":\"ac9d0bfc-24bd-463d-a1c5-1a5a4743b40e\",\"type\":\"ResetTool\"},{\"attributes\":{\"plot\":{\"id\":\"62e6776b-20dc-4832-836c-930679169f97\",\"subtype\":\"Figure\",\"type\":\"Plot\"}},\"id\":\"0b105082-446a-4fd7-b5ba-5cfed91ebf47\",\"type\":\"ResizeTool\"},{\"attributes\":{\"callback\":null,\"start\":0},\"id\":\"5f630156-76ef-40f3-8d93-9aa2232a9f05\",\"type\":\"DataRange1d\"},{\"attributes\":{\"plot\":{\"id\":\"9de9eee3-e203-4476-9524-713442528289\",\"subtype\":\"Figure\",\"type\":\"Plot\"},\"ticker\":{\"id\":\"aad0af37-8f99-48a1-b87d-dfeced279676\",\"type\":\"BasicTicker\"}},\"id\":\"5b76e14d-3bce-4122-98a1-fff6df1ff10e\",\"type\":\"Grid\"},{\"attributes\":{\"data_source\":{\"id\":\"1ee0c876-4d74-4c5e-ab66-7febf6621e44\",\"type\":\"ColumnDataSource\"},\"glyph\":{\"id\":\"e08380ae-9ee8-4ee2-bd4b-e500c323e70e\",\"type\":\"Line\"},\"hover_glyph\":null,\"nonselection_glyph\":{\"id\":\"b7ff2509-e55c-4bd8-b5b5-7bdd158501c0\",\"type\":\"Line\"},\"selection_glyph\":null},\"id\":\"3afaa2c4-97ac-4b15-bb2a-d3c7dd34fe1f\",\"type\":\"GlyphRenderer\"},{\"attributes\":{\"callback\":null,\"column_names\":[\"y\",\"x\"],\"data\":{\"x\":[0,1,2,3,4,5,6,7,8,9,10,11,12,13,14,15,16,17,18,19,20,21,22,23],\"y\":[0.2594985788728269,0.26432659925232965,0.2940258342304813,0.29106751801075953,0.33057305695558686,0.2380147987667258,0.23465345221313277,0.21558078815743828,0.21477177392706492,0.2115615436443135,0.22691332449752546,0.23700708350740804,0.233839718189164,0.23244034571821237,0.2405161318015222,0.22445481756936625,0.23192418272155133,0.2375414142788479,0.2404402621229842,0.2947791451850461,0.22615166148334145,0.2456239213446206,0.24443008996856688,0.24092943041831774]}},\"id\":\"d636c505-e745-4e53-8e02-5dd147791c40\",\"type\":\"ColumnDataSource\"},{\"attributes\":{\"plot\":{\"id\":\"45351c80-5246-481b-baeb-dc2d018657cc\",\"subtype\":\"Figure\",\"type\":\"Plot\"}},\"id\":\"7a5bd1a4-944d-424e-9169-8d1bfe8d4bed\",\"type\":\"WheelZoomTool\"},{\"attributes\":{},\"id\":\"c24e167c-06aa-47ff-af86-02ad84a95699\",\"type\":\"BasicTicker\"},{\"attributes\":{\"plot\":{\"id\":\"9de9eee3-e203-4476-9524-713442528289\",\"subtype\":\"Figure\",\"type\":\"Plot\"}},\"id\":\"37af6420-f2aa-4d21-9743-a57556514600\",\"type\":\"WheelZoomTool\"},{\"attributes\":{\"plot\":{\"id\":\"56237a1a-3deb-4ff1-9392-47ba1ea4205b\",\"subtype\":\"Figure\",\"type\":\"Plot\"}},\"id\":\"ebd5633e-5558-4d34-b57e-cc5ae4ebee49\",\"type\":\"ResizeTool\"},{\"attributes\":{},\"id\":\"db59379f-ad53-4d0d-a57b-acf37bbc1d31\",\"type\":\"BasicTickFormatter\"},{\"attributes\":{\"axis_label\":\"Hour of day\",\"formatter\":{\"id\":\"fbb1583f-9992-4e4e-bf03-f1f5153de361\",\"type\":\"BasicTickFormatter\"},\"plot\":{\"id\":\"7047c37c-c153-4e31-82df-4f1a7ca2b724\",\"subtype\":\"Figure\",\"type\":\"Plot\"},\"ticker\":{\"id\":\"9ef2cffb-cf41-4122-971b-fae421e9fb14\",\"type\":\"BasicTicker\"}},\"id\":\"71599121-bc89-43d4-b4e5-8377a6a10455\",\"type\":\"LinearAxis\"},{\"attributes\":{},\"id\":\"284a1b3d-ae58-49d3-b39e-0773fcb569ce\",\"type\":\"ToolEvents\"},{\"attributes\":{\"plot\":{\"id\":\"62e6776b-20dc-4832-836c-930679169f97\",\"subtype\":\"Figure\",\"type\":\"Plot\"}},\"id\":\"94459645-2d83-4b27-8e1c-6f990f853570\",\"type\":\"PanTool\"},{\"attributes\":{\"line_color\":{\"value\":\"#1f77b4\"},\"line_width\":{\"value\":5},\"x\":{\"field\":\"x\"},\"y\":{\"field\":\"y\"}},\"id\":\"6b87af87-b432-4bb0-ad38-75d9a888aa38\",\"type\":\"Line\"},{\"attributes\":{\"axis_label\":\"Tip Fraction\",\"formatter\":{\"id\":\"db59379f-ad53-4d0d-a57b-acf37bbc1d31\",\"type\":\"BasicTickFormatter\"},\"plot\":{\"id\":\"56237a1a-3deb-4ff1-9392-47ba1ea4205b\",\"subtype\":\"Figure\",\"type\":\"Plot\"},\"ticker\":{\"id\":\"afcc54c3-df35-4e7f-bbb1-76d8571184b0\",\"type\":\"BasicTicker\"}},\"id\":\"509c3f5f-6f05-4092-9dfb-815d86938888\",\"type\":\"LinearAxis\"},{\"attributes\":{\"plot\":{\"id\":\"56237a1a-3deb-4ff1-9392-47ba1ea4205b\",\"subtype\":\"Figure\",\"type\":\"Plot\"},\"ticker\":{\"id\":\"c24e167c-06aa-47ff-af86-02ad84a95699\",\"type\":\"BasicTicker\"}},\"id\":\"59cf981a-b86a-46b3-9144-1387738d2f90\",\"type\":\"Grid\"},{\"attributes\":{\"callback\":null,\"start\":0},\"id\":\"ac4eda75-4c0a-492a-94f6-f3c977f14a8b\",\"type\":\"DataRange1d\"},{\"attributes\":{\"line_alpha\":{\"value\":0.1},\"line_color\":{\"value\":\"#1f77b4\"},\"line_width\":{\"value\":5},\"x\":{\"field\":\"x\"},\"y\":{\"field\":\"y\"}},\"id\":\"78b153c9-6684-4f37-9f17-8041105edc4e\",\"type\":\"Line\"},{\"attributes\":{\"callback\":null,\"start\":0},\"id\":\"e7c411e0-9fc3-4e77-b7c5-72bbae6e857d\",\"type\":\"DataRange1d\"},{\"attributes\":{},\"id\":\"fbb1583f-9992-4e4e-bf03-f1f5153de361\",\"type\":\"BasicTickFormatter\"},{\"attributes\":{\"plot\":{\"id\":\"62e6776b-20dc-4832-836c-930679169f97\",\"subtype\":\"Figure\",\"type\":\"Plot\"}},\"id\":\"4bcae374-7923-4387-a6a3-2a45d77f4e31\",\"type\":\"ResetTool\"},{\"attributes\":{\"callback\":null,\"column_names\":[\"y\",\"x\"],\"data\":{\"x\":[0,1,2,3,4,5,6,7,8,9,10,11,12,13,14,15,16,17,18,19,20,21,22,23],\"y\":[0.2594985788728269,0.26432659925232965,0.2940258342304813,0.29106751801075953,0.33057305695558686,0.2380147987667258,0.23465345221313277,0.21558078815743828,0.21477177392706492,0.2115615436443135,0.22691332449752546,0.23700708350740804,0.233839718189164,0.23244034571821237,0.2405161318015222,0.22445481756936625,0.23192418272155133,0.2375414142788479,0.2404402621229842,0.2947791451850461,0.22615166148334145,0.2456239213446206,0.24443008996856688,0.24092943041831774]}},\"id\":\"f16f2b53-b955-43a5-bc53-51003cc23729\",\"type\":\"ColumnDataSource\"},{\"attributes\":{},\"id\":\"163d3c34-1448-4de8-88a0-9f77b48c9f39\",\"type\":\"BasicTicker\"},{\"attributes\":{\"line_color\":{\"value\":\"#1f77b4\"},\"line_width\":{\"value\":3},\"x\":{\"field\":\"x\"},\"y\":{\"field\":\"y\"}},\"id\":\"7b60863b-32a8-41df-a5e7-c9b98f72425b\",\"type\":\"Line\"},{\"attributes\":{},\"id\":\"b93ef48b-52f1-4f32-857c-2260130ec61c\",\"type\":\"BasicTickFormatter\"},{\"attributes\":{\"axis_label\":\"Tip Fraction\",\"formatter\":{\"id\":\"ac61733c-1701-47ca-826f-1347db24dbf5\",\"type\":\"BasicTickFormatter\"},\"plot\":{\"id\":\"7047c37c-c153-4e31-82df-4f1a7ca2b724\",\"subtype\":\"Figure\",\"type\":\"Plot\"},\"ticker\":{\"id\":\"163d3c34-1448-4de8-88a0-9f77b48c9f39\",\"type\":\"BasicTicker\"}},\"id\":\"20036575-1ae5-45a0-b748-f107a34cab14\",\"type\":\"LinearAxis\"},{\"attributes\":{\"bottom_units\":\"screen\",\"fill_alpha\":{\"value\":0.5},\"fill_color\":{\"value\":\"lightgrey\"},\"left_units\":\"screen\",\"level\":\"overlay\",\"line_alpha\":{\"value\":1.0},\"line_color\":{\"value\":\"black\"},\"line_dash\":[4,4],\"line_width\":{\"value\":2},\"plot\":null,\"render_mode\":\"css\",\"right_units\":\"screen\",\"top_units\":\"screen\"},\"id\":\"ccc15d8f-e560-4cb0-8e55-68fa82ee0e61\",\"type\":\"BoxAnnotation\"},{\"attributes\":{},\"id\":\"aad0af37-8f99-48a1-b87d-dfeced279676\",\"type\":\"BasicTicker\"},{\"attributes\":{\"overlay\":{\"id\":\"64955ade-1029-44bc-b079-828ae950afdf\",\"type\":\"BoxAnnotation\"},\"plot\":{\"id\":\"9de9eee3-e203-4476-9524-713442528289\",\"subtype\":\"Figure\",\"type\":\"Plot\"}},\"id\":\"01dfa05f-6825-41cf-b08e-c17e2f84aa01\",\"type\":\"BoxZoomTool\"},{\"attributes\":{},\"id\":\"33666b1f-f17f-4745-9f6f-56357c525b27\",\"type\":\"ToolEvents\"},{\"attributes\":{\"overlay\":{\"id\":\"4631ebfd-2b9b-4f33-a7f8-17ff56d67e25\",\"type\":\"BoxAnnotation\"},\"plot\":{\"id\":\"62e6776b-20dc-4832-836c-930679169f97\",\"subtype\":\"Figure\",\"type\":\"Plot\"}},\"id\":\"2ccdfec1-4997-4430-9118-6906ea0a9562\",\"type\":\"BoxZoomTool\"},{\"attributes\":{\"bottom_units\":\"screen\",\"fill_alpha\":{\"value\":0.5},\"fill_color\":{\"value\":\"lightgrey\"},\"left_units\":\"screen\",\"level\":\"overlay\",\"line_alpha\":{\"value\":1.0},\"line_color\":{\"value\":\"black\"},\"line_dash\":[4,4],\"line_width\":{\"value\":2},\"plot\":null,\"render_mode\":\"css\",\"right_units\":\"screen\",\"top_units\":\"screen\"},\"id\":\"4631ebfd-2b9b-4f33-a7f8-17ff56d67e25\",\"type\":\"BoxAnnotation\"},{\"attributes\":{},\"id\":\"43636314-f534-46ca-9927-30966c73be76\",\"type\":\"BasicTickFormatter\"},{\"attributes\":{\"below\":[{\"id\":\"c94cbeba-0674-4a07-9cb2-8850f23b2d34\",\"type\":\"LinearAxis\"}],\"left\":[{\"id\":\"4dd6bf38-ba04-47d3-b734-eef9d1f4cdb1\",\"type\":\"LinearAxis\"}],\"renderers\":[{\"id\":\"c94cbeba-0674-4a07-9cb2-8850f23b2d34\",\"type\":\"LinearAxis\"},{\"id\":\"972e0683-bdf2-498a-8363-342131914937\",\"type\":\"Grid\"},{\"id\":\"4dd6bf38-ba04-47d3-b734-eef9d1f4cdb1\",\"type\":\"LinearAxis\"},{\"id\":\"cb4a3acf-c732-4422-9425-af6433b7c6d8\",\"type\":\"Grid\"},{\"id\":\"ccc15d8f-e560-4cb0-8e55-68fa82ee0e61\",\"type\":\"BoxAnnotation\"},{\"id\":\"0c8d2229-9b9b-4089-83f5-c02d9abbe72d\",\"type\":\"GlyphRenderer\"}],\"title\":\"Tip Fraction\",\"tool_events\":{\"id\":\"9fe804b5-0a0f-4f32-82a3-32c8faee87f9\",\"type\":\"ToolEvents\"},\"tools\":[{\"id\":\"3d28ed81-7126-4453-8ee4-25cfdaa5877f\",\"type\":\"PanTool\"},{\"id\":\"7a5bd1a4-944d-424e-9169-8d1bfe8d4bed\",\"type\":\"WheelZoomTool\"},{\"id\":\"b393226d-1e32-4674-aac5-9cab3f3d9f9f\",\"type\":\"BoxZoomTool\"},{\"id\":\"a2a9a870-de3f-4b61-9854-885b03a7fd2d\",\"type\":\"PreviewSaveTool\"},{\"id\":\"b838b974-cc02-466d-a84c-886b10f0a4f3\",\"type\":\"ResizeTool\"},{\"id\":\"36e7d4de-0166-4dc5-8929-b09f152923a0\",\"type\":\"ResetTool\"},{\"id\":\"5b1c0667-9d1d-4ad9-92ce-066fb788fa02\",\"type\":\"HelpTool\"}],\"x_range\":{\"id\":\"eaa4a05c-b01c-4e0d-808f-b21aba18674d\",\"type\":\"DataRange1d\"},\"y_range\":{\"id\":\"c3852e2f-8914-4cc4-aed4-0984609c61b8\",\"type\":\"DataRange1d\"}},\"id\":\"45351c80-5246-481b-baeb-dc2d018657cc\",\"subtype\":\"Figure\",\"type\":\"Plot\"},{\"attributes\":{\"bottom_units\":\"screen\",\"fill_alpha\":{\"value\":0.5},\"fill_color\":{\"value\":\"lightgrey\"},\"left_units\":\"screen\",\"level\":\"overlay\",\"line_alpha\":{\"value\":1.0},\"line_color\":{\"value\":\"black\"},\"line_dash\":[4,4],\"line_width\":{\"value\":2},\"plot\":null,\"render_mode\":\"css\",\"right_units\":\"screen\",\"top_units\":\"screen\"},\"id\":\"ac0f7e09-356c-4ac8-a011-da0009dfffa2\",\"type\":\"BoxAnnotation\"},{\"attributes\":{\"callback\":null,\"column_names\":[\"y\",\"x\"],\"data\":{\"x\":[0,1,2,3,4,5,6,7,8,9,10,11,12,13,14,15,16,17,18,19,20,21,22,23],\"y\":[0.2594985788728269,0.26432659925232965,0.2940258342304813,0.29106751801075953,0.33057305695558686,0.2380147987667258,0.23465345221313277,0.21558078815743828,0.21477177392706492,0.2115615436443135,0.22691332449752546,0.23700708350740804,0.233839718189164,0.23244034571821237,0.2405161318015222,0.22445481756936625,0.23192418272155133,0.2375414142788479,0.2404402621229842,0.2947791451850461,0.22615166148334145,0.2456239213446206,0.24443008996856688,0.24092943041831774]}},\"id\":\"8dadf37d-a9be-4dc1-b057-74dbca93c026\",\"type\":\"ColumnDataSource\"},{\"attributes\":{\"axis_label\":\"Hour of day\",\"formatter\":{\"id\":\"338c75c8-7a71-4247-b536-36b5573fbf42\",\"type\":\"BasicTickFormatter\"},\"plot\":{\"id\":\"62e6776b-20dc-4832-836c-930679169f97\",\"subtype\":\"Figure\",\"type\":\"Plot\"},\"ticker\":{\"id\":\"b8aa63d7-6400-4c35-a864-26358a7c1764\",\"type\":\"BasicTicker\"}},\"id\":\"041116ee-df62-471a-b3f3-c39e34f71363\",\"type\":\"LinearAxis\"},{\"attributes\":{},\"id\":\"5456ab5e-1e51-4e2d-ac9e-c7a7f7aa507c\",\"type\":\"ToolEvents\"},{\"attributes\":{\"plot\":{\"id\":\"56237a1a-3deb-4ff1-9392-47ba1ea4205b\",\"subtype\":\"Figure\",\"type\":\"Plot\"}},\"id\":\"94607d75-4fb1-4519-89ea-8c9436f4d15c\",\"type\":\"PreviewSaveTool\"},{\"attributes\":{\"below\":[{\"id\":\"71599121-bc89-43d4-b4e5-8377a6a10455\",\"type\":\"LinearAxis\"}],\"left\":[{\"id\":\"20036575-1ae5-45a0-b748-f107a34cab14\",\"type\":\"LinearAxis\"}],\"renderers\":[{\"id\":\"71599121-bc89-43d4-b4e5-8377a6a10455\",\"type\":\"LinearAxis\"},{\"id\":\"0fabf21f-6239-460a-bafd-4930110fa5e6\",\"type\":\"Grid\"},{\"id\":\"20036575-1ae5-45a0-b748-f107a34cab14\",\"type\":\"LinearAxis\"},{\"id\":\"62f8a9aa-93f2-4215-ae07-6100bdec3a9f\",\"type\":\"Grid\"},{\"id\":\"ac0f7e09-356c-4ac8-a011-da0009dfffa2\",\"type\":\"BoxAnnotation\"},{\"id\":\"8530e2e5-e09b-4952-a987-5ee05c5e1998\",\"type\":\"GlyphRenderer\"}],\"title\":\"Tip Fraction\",\"tool_events\":{\"id\":\"284a1b3d-ae58-49d3-b39e-0773fcb569ce\",\"type\":\"ToolEvents\"},\"tools\":[{\"id\":\"9651863d-c772-443c-8f09-59d9a7752c3c\",\"type\":\"PanTool\"},{\"id\":\"6684bd3e-c64e-4a2b-a941-b36e9b98cd08\",\"type\":\"WheelZoomTool\"},{\"id\":\"cf6d06bf-84bb-4957-8557-5cffa81f64e5\",\"type\":\"BoxZoomTool\"},{\"id\":\"3ef4815f-d41e-4463-8bf1-62f6c3c2cb62\",\"type\":\"PreviewSaveTool\"},{\"id\":\"10df01f9-3f4f-42ad-b123-68e534b2e363\",\"type\":\"ResizeTool\"},{\"id\":\"f5abaa7e-7918-4cc5-9b80-042aa9d014fc\",\"type\":\"ResetTool\"},{\"id\":\"0690ed5d-c199-4f99-b9d1-bde12a233162\",\"type\":\"HelpTool\"}],\"x_range\":{\"id\":\"605b8cf2-38a4-42f4-b2a3-78712152f78f\",\"type\":\"DataRange1d\"},\"y_range\":{\"id\":\"e7c411e0-9fc3-4e77-b7c5-72bbae6e857d\",\"type\":\"DataRange1d\"}},\"id\":\"7047c37c-c153-4e31-82df-4f1a7ca2b724\",\"subtype\":\"Figure\",\"type\":\"Plot\"},{\"attributes\":{\"plot\":{\"id\":\"45351c80-5246-481b-baeb-dc2d018657cc\",\"subtype\":\"Figure\",\"type\":\"Plot\"}},\"id\":\"3d28ed81-7126-4453-8ee4-25cfdaa5877f\",\"type\":\"PanTool\"},{\"attributes\":{\"line_color\":{\"value\":\"#1f77b4\"},\"x\":{\"field\":\"x\"},\"y\":{\"field\":\"y\"}},\"id\":\"e08380ae-9ee8-4ee2-bd4b-e500c323e70e\",\"type\":\"Line\"},{\"attributes\":{\"plot\":{\"id\":\"56237a1a-3deb-4ff1-9392-47ba1ea4205b\",\"subtype\":\"Figure\",\"type\":\"Plot\"}},\"id\":\"ec585533-1071-4dd5-8486-bfa90f7cb072\",\"type\":\"PanTool\"},{\"attributes\":{},\"id\":\"620cc914-991d-4e03-9da2-ac9cdc9aaf06\",\"type\":\"ToolEvents\"},{\"attributes\":{\"dimension\":1,\"plot\":{\"id\":\"56237a1a-3deb-4ff1-9392-47ba1ea4205b\",\"subtype\":\"Figure\",\"type\":\"Plot\"},\"ticker\":{\"id\":\"afcc54c3-df35-4e7f-bbb1-76d8571184b0\",\"type\":\"BasicTicker\"}},\"id\":\"a314fd69-d9fa-466c-8fbe-3d80961f9e6b\",\"type\":\"Grid\"}],\"root_ids\":[\"9de9eee3-e203-4476-9524-713442528289\",\"45351c80-5246-481b-baeb-dc2d018657cc\",\"56237a1a-3deb-4ff1-9392-47ba1ea4205b\",\"7047c37c-c153-4e31-82df-4f1a7ca2b724\",\"62e6776b-20dc-4832-836c-930679169f97\"]},\"title\":\"Bokeh Application\",\"version\":\"0.11.1\"}};\n",
       "            var render_items = [{\"docid\":\"82e5dc61-fa2f-4271-925f-0b0e30edf094\",\"elementid\":\"0da75439-15e4-460b-acaf-6ea650a08dbe\",\"modelid\":\"62e6776b-20dc-4832-836c-930679169f97\",\"notebook_comms_target\":\"d637bfb0-3bec-422b-99db-e688d5c8dac1\"}];\n",
       "            \n",
       "            Bokeh.embed.embed_items(docs_json, render_items);\n",
       "        });\n",
       "      },\n",
       "      function(Bokeh) {\n",
       "      }\n",
       "    ];\n",
       "  \n",
       "    function run_inline_js() {\n",
       "      for (var i = 0; i < inline_js.length; i++) {\n",
       "        inline_js[i](window.Bokeh);\n",
       "      }\n",
       "    }\n",
       "  \n",
       "    if (window._bokeh_is_loading === 0) {\n",
       "      console.log(\"Bokeh: BokehJS loaded, going straight to plotting\");\n",
       "      run_inline_js();\n",
       "    } else {\n",
       "      load_libs(js_urls, function() {\n",
       "        console.log(\"Bokeh: BokehJS plotting callback run at\", now());\n",
       "        run_inline_js();\n",
       "      });\n",
       "    }\n",
       "  }(this));\n",
       "</script>"
      ]
     },
     "metadata": {},
     "output_type": "display_data"
    },
    {
     "data": {
      "text/html": [
       "<p><code>&lt;Bokeh Notebook handle for <strong>In[24]</strong>&gt;</code></p>"
      ],
      "text/plain": [
       "<bokeh.io._CommsHandle at 0x7f20d4167b90>"
      ]
     },
     "execution_count": 24,
     "metadata": {},
     "output_type": "execute_result"
    }
   ],
   "source": [
    "from bokeh.plotting import figure, output_notebook, show\n",
    "output_notebook()\n",
    "\n",
    "fig = figure(title='Tip Fraction', \n",
    "             x_axis_label='Hour of day', \n",
    "             y_axis_label='Tip Fraction')\n",
    "fig.line(x=hour.index.compute(), y=hour.compute(), line_width=3)\n",
    "fig.y_range.start = 0\n",
    "\n",
    "show(fig)"
   ]
  }
 ],
 "metadata": {
  "anaconda-cloud": {},
  "kernelspec": {
   "display_name": "Python 2",
   "language": "python",
   "name": "python2"
  },
  "language_info": {
   "codemirror_mode": {
    "name": "ipython",
    "version": 2
   },
   "file_extension": ".py",
   "mimetype": "text/x-python",
   "name": "python",
   "nbconvert_exporter": "python",
   "pygments_lexer": "ipython2",
   "version": "2.7.11"
  }
 },
 "nbformat": 4,
 "nbformat_minor": 0
}
